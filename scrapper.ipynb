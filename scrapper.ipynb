{
  "nbformat": 4,
  "nbformat_minor": 0,
  "metadata": {
    "colab": {
      "provenance": []
    },
    "kernelspec": {
      "name": "python3",
      "display_name": "Python 3"
    },
    "language_info": {
      "name": "python"
    }
  },
  "cells": [
    {
      "cell_type": "code",
      "source": [
        "!pip install google_play_scraper"
      ],
      "metadata": {
        "colab": {
          "base_uri": "https://localhost:8080/"
        },
        "id": "fiRejIpX9B5g",
        "outputId": "7bb788d0-0245-4c97-adc3-afd61e6e0d36"
      },
      "execution_count": 1,
      "outputs": [
        {
          "output_type": "stream",
          "name": "stdout",
          "text": [
            "Collecting google_play_scraper\n",
            "  Downloading google_play_scraper-1.2.7-py3-none-any.whl.metadata (50 kB)\n",
            "\u001b[?25l     \u001b[90m━━━━━━━━━━━━━━━━━━━━━━━━━━━━━━━━━━━━━━━━\u001b[0m \u001b[32m0.0/50.2 kB\u001b[0m \u001b[31m?\u001b[0m eta \u001b[36m-:--:--\u001b[0m\r\u001b[2K     \u001b[90m━━━━━━━━━━━━━━━━━━━━━━━━━━━━━━━━━━━━━━━━\u001b[0m \u001b[32m50.2/50.2 kB\u001b[0m \u001b[31m2.4 MB/s\u001b[0m eta \u001b[36m0:00:00\u001b[0m\n",
            "\u001b[?25hDownloading google_play_scraper-1.2.7-py3-none-any.whl (28 kB)\n",
            "Installing collected packages: google_play_scraper\n",
            "Successfully installed google_play_scraper-1.2.7\n"
          ]
        }
      ]
    },
    {
      "cell_type": "code",
      "execution_count": 3,
      "metadata": {
        "id": "uPM49k1a0IWg"
      },
      "outputs": [],
      "source": [
        "import pandas as pd\n",
        "import time\n",
        "from google_play_scraper import reviews, Sort\n",
        "from google_play_scraper.exceptions import GooglePlayScraperException\n",
        "from tqdm import tqdm"
      ]
    },
    {
      "cell_type": "code",
      "source": [
        "def scrape_reviews(app_id, lang='id', country='id', sort=Sort.MOST_RELEVANT, count=20000, filter_score_with=5):\n",
        "    \"\"\"\n",
        "    Mengambil ulasan aplikasi dari Google Play Store.\n",
        "\n",
        "    Parameters:\n",
        "        app_id (str): ID aplikasi di Google Play Store.\n",
        "        lang (str): Kode bahasa untuk ulasan yang diambil (default: 'id').\n",
        "        country (str): Kode negara untuk ulasan yang diambil (default: 'id').\n",
        "        sort (Sort): Metode pengurutan ulasan, misal Sort.MOST_RELEVANT.\n",
        "        count (int): Jumlah maksimal ulasan yang akan diambil.\n",
        "        filter_score_with (int): Nilai rating yang difilter, misal hanya ulasan dengan skor 5.\n",
        "\n",
        "    Returns:\n",
        "        list: Daftar ulasan yang diambil.\n",
        "    \"\"\"\n",
        "    all_reviews = []\n",
        "    total_fetched = 0\n",
        "\n",
        "    # Setup progress bar\n",
        "    with tqdm(total=count, desc=\"Mengambil Ulasan\", unit=\"ulasan\") as pbar:\n",
        "        while total_fetched < count:\n",
        "            try:\n",
        "                fetched_reviews, _ = reviews(\n",
        "                    app_id,\n",
        "                    lang=lang,\n",
        "                    country=country,\n",
        "                    sort=sort,\n",
        "                    count=min(200, count - total_fetched),\n",
        "                    filter_score_with=filter_score_with\n",
        "                )\n",
        "                all_reviews.extend(fetched_reviews)\n",
        "                total_fetched += len(fetched_reviews)\n",
        "\n",
        "                # Update progress bar\n",
        "                pbar.update(len(fetched_reviews))\n",
        "\n",
        "                # Menghentikan loop jika tidak ada ulasan baru yang ditemukan\n",
        "                if len(fetched_reviews) == 0:\n",
        "                    print(\"Tidak ada ulasan baru yang ditemukan.\")\n",
        "                    break\n",
        "\n",
        "                # Jeda untuk menghindari pemblokiran\n",
        "                time.sleep(0.001)\n",
        "\n",
        "            except GooglePlayScraperException as e:\n",
        "                print(f\"Terjadi kesalahan saat mengambil ulasan: {e}\")\n",
        "                break\n",
        "            except Exception as e:\n",
        "                print(f\"Kesalahan tidak terduga: {e}\")\n",
        "                break\n",
        "\n",
        "    return all_reviews"
      ],
      "metadata": {
        "id": "Ua5j58Nv0fEJ"
      },
      "execution_count": 4,
      "outputs": []
    },
    {
      "cell_type": "code",
      "source": [
        "def save_to_csv(data, output_file):\n",
        "    \"\"\"\n",
        "    Menyimpan data ulasan ke dalam file CSV.\n",
        "\n",
        "    Parameters:\n",
        "        data (list): Data ulasan yang akan disimpan.\n",
        "        output_file (str): Nama file output CSV.\n",
        "\n",
        "    Returns:\n",
        "        None\n",
        "    \"\"\"\n",
        "    if data:\n",
        "        df = pd.DataFrame(data)\n",
        "        df.to_csv(output_file, index=False)\n",
        "        print(f\"Berhasil menyimpan {len(data)} ulasan ke {output_file}\")\n",
        "    else:\n",
        "        print(\"Tidak ada data ulasan untuk disimpan.\")"
      ],
      "metadata": {
        "id": "AeA-MA7D1B2D"
      },
      "execution_count": 5,
      "outputs": []
    },
    {
      "cell_type": "code",
      "source": [
        "def main():\n",
        "    \"\"\"\n",
        "    Fungsi utama untuk mengeksekusi proses scraping dan penyimpanan ulasan.\n",
        "\n",
        "    Returns:\n",
        "        None\n",
        "    \"\"\"\n",
        "    app_id = 'com.microsoft.office.officehubrow'\n",
        "    lang = 'id'\n",
        "    country = 'id'\n",
        "    sort = Sort.MOST_RELEVANT\n",
        "    count = 20000\n",
        "    filter_score_with = 5\n",
        "    output_file = 'Ulasan Aplikasi Microsoft Office.csv'\n",
        "\n",
        "    # Mengambil ulasan aplikasi\n",
        "    reviews_data = scrape_reviews(app_id, lang, country, sort, count, filter_score_with)\n",
        "\n",
        "    # Menyimpan ulasan ke dalam file CSV\n",
        "    save_to_csv(reviews_data, output_file)"
      ],
      "metadata": {
        "id": "iOGkV5mz-TA3"
      },
      "execution_count": 8,
      "outputs": []
    },
    {
      "cell_type": "code",
      "source": [
        "# Menjalankan fungsi utama\n",
        "if __name__ == \"__main__\":\n",
        "    main()"
      ],
      "metadata": {
        "colab": {
          "base_uri": "https://localhost:8080/"
        },
        "id": "RdKh6J14-T_7",
        "outputId": "655af3fb-1eee-4027-fdd3-9f00e1c46e18"
      },
      "execution_count": 9,
      "outputs": [
        {
          "output_type": "stream",
          "name": "stderr",
          "text": [
            "Mengambil Ulasan: 100%|██████████| 20000/20000 [00:10<00:00, 1888.83ulasan/s]\n"
          ]
        },
        {
          "output_type": "stream",
          "name": "stdout",
          "text": [
            "Berhasil menyimpan 20000 ulasan ke Ulasan Aplikasi Microsoft Office.csv\n"
          ]
        }
      ]
    },
    {
      "cell_type": "code",
      "source": [],
      "metadata": {
        "id": "TG_wFa2k-XKJ"
      },
      "execution_count": null,
      "outputs": []
    }
  ]
}
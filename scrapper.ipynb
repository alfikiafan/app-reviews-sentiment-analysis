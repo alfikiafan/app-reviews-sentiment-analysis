{
  "nbformat": 4,
  "nbformat_minor": 0,
  "metadata": {
    "colab": {
      "provenance": []
    },
    "kernelspec": {
      "name": "python3",
      "display_name": "Python 3"
    },
    "language_info": {
      "name": "python"
    }
  },
  "cells": [
    {
      "cell_type": "code",
      "source": [
        "!pip install google-play-scraper pandas tqdm"
      ],
      "metadata": {
        "colab": {
          "base_uri": "https://localhost:8080/"
        },
        "id": "fiRejIpX9B5g",
        "outputId": "ecfa554f-3680-4ab9-e6a1-a1d54f03ff3b"
      },
      "execution_count": 1,
      "outputs": [
        {
          "output_type": "stream",
          "name": "stdout",
          "text": [
            "Collecting google_play_scraper\n",
            "  Downloading google_play_scraper-1.2.7-py3-none-any.whl.metadata (50 kB)\n",
            "\u001b[?25l     \u001b[90m━━━━━━━━━━━━━━━━━━━━━━━━━━━━━━━━━━━━━━━━\u001b[0m \u001b[32m0.0/50.2 kB\u001b[0m \u001b[31m?\u001b[0m eta \u001b[36m-:--:--\u001b[0m\r\u001b[2K     \u001b[90m━━━━━━━━━━━━━━━━━━━━━━━━━━━━━━━━━━━━━━━━\u001b[0m \u001b[32m50.2/50.2 kB\u001b[0m \u001b[31m2.9 MB/s\u001b[0m eta \u001b[36m0:00:00\u001b[0m\n",
            "\u001b[?25hDownloading google_play_scraper-1.2.7-py3-none-any.whl (28 kB)\n",
            "Installing collected packages: google_play_scraper\n",
            "Successfully installed google_play_scraper-1.2.7\n"
          ]
        }
      ]
    },
    {
      "cell_type": "code",
      "execution_count": 25,
      "metadata": {
        "id": "uPM49k1a0IWg"
      },
      "outputs": [],
      "source": [
        "import pandas as pd\n",
        "from google_play_scraper import Sort, reviews\n",
        "from tqdm import tqdm"
      ]
    },
    {
      "cell_type": "code",
      "source": [
        "# Mendefinisikan ID aplikasi Microsoft Office di Google Play Store\n",
        "app_id = 'com.microsoft.office.officehubrow'"
      ],
      "metadata": {
        "id": "R0xcIuUg26ae"
      },
      "execution_count": 26,
      "outputs": []
    },
    {
      "cell_type": "code",
      "source": [
        "# Mendefinisikan fungsi untuk scraping dan menyimpan ulasan\n",
        "def scrape_and_save_reviews(app_id, lang='id', country='id', sort=Sort.MOST_RELEVANT, count=1000, output_file='microsoft_office_reviews.csv'):\n",
        "    \"\"\"\n",
        "    Scrapes reviews from Google Play Store and saves them to a CSV file.\n",
        "\n",
        "    Parameters:\n",
        "        app_id (str): The app ID to scrape reviews from.\n",
        "        lang (str): Language of reviews (default is 'id' for Indonesian).\n",
        "        country (str): Country code for reviews (default is 'id' for Indonesia).\n",
        "        sort (Sort): Sorting option for reviews (default is Sort.MOST_RELEVANT).\n",
        "        count (int): Number of reviews to scrape (default is 1000).\n",
        "        output_file (str): The name of the output CSV file.\n",
        "\n",
        "    Returns:\n",
        "        None\n",
        "    \"\"\"\n",
        "    all_reviews = []\n",
        "    total_fetched = 0\n",
        "\n",
        "    with tqdm(total=count, desc=\"Scraping Reviews\", unit=\"review\") as pbar:\n",
        "        while total_fetched < count:\n",
        "            try:\n",
        "                fetched_reviews, _ = reviews(\n",
        "                    app_id,\n",
        "                    lang=lang,\n",
        "                    country=country,\n",
        "                    sort=sort,\n",
        "                    count=min(20000, count - total_fetched)\n",
        "                )\n",
        "\n",
        "                all_reviews.extend(fetched_reviews)\n",
        "                total_fetched += len(fetched_reviews)\n",
        "                pbar.update(len(fetched_reviews))\n",
        "\n",
        "                if len(fetched_reviews) == 0:\n",
        "                    break\n",
        "\n",
        "            except Exception as e:\n",
        "                print(f\"Error during scraping: {e}\")\n",
        "                break\n",
        "\n",
        "    df_reviews = pd.DataFrame(all_reviews)\n",
        "    df_reviews.drop_duplicates(subset=['reviewId'], inplace=True)\n",
        "\n",
        "    df_reviews.to_csv(output_file, index=False)\n",
        "    print(f\"Scraping completed. Saved {df_reviews.shape[0]} reviews to '{output_file}'.\")\n"
      ],
      "metadata": {
        "id": "Ua5j58Nv0fEJ"
      },
      "execution_count": 32,
      "outputs": []
    },
    {
      "cell_type": "code",
      "source": [
        "# Menjalankan program\n",
        "scrape_and_save_reviews(app_id=app_id, count=20000, output_file='app_reviews.csv')\n"
      ],
      "metadata": {
        "id": "TG_wFa2k-XKJ",
        "colab": {
          "base_uri": "https://localhost:8080/"
        },
        "outputId": "aeb58a29-e155-4364-aa09-8a5aa3288adb"
      },
      "execution_count": 33,
      "outputs": [
        {
          "output_type": "stream",
          "name": "stderr",
          "text": [
            "Scraping Reviews: 100%|██████████| 20000/20000 [00:10<00:00, 1979.18review/s]\n"
          ]
        },
        {
          "output_type": "stream",
          "name": "stdout",
          "text": [
            "Scraping completed. Saved 20000 reviews to 'app_reviews.csv'.\n"
          ]
        }
      ]
    },
    {
      "cell_type": "code",
      "source": [],
      "metadata": {
        "id": "NJFqqOvi28ZH"
      },
      "execution_count": null,
      "outputs": []
    }
  ]
}